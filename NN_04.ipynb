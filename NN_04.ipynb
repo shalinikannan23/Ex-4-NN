{
  "nbformat": 4,
  "nbformat_minor": 0,
  "metadata": {
    "colab": {
      "provenance": []
    },
    "kernelspec": {
      "name": "python3",
      "display_name": "Python 3"
    },
    "language_info": {
      "name": "python"
    }
  },
  "cells": [
    {
      "cell_type": "code",
      "execution_count": 1,
      "metadata": {
        "id": "eKGKu1tI4aQ3"
      },
      "outputs": [],
      "source": [
        "import pandas as pd\n",
        "from sklearn.model_selection import train_test_split\n",
        "from sklearn.preprocessing import StandardScaler\n",
        "from sklearn.neural_network import MLPClassifier\n",
        "from sklearn.metrics import classification_report\n",
        "from sklearn.metrics import confusion_matrix"
      ]
    },
    {
      "cell_type": "code",
      "source": [
        "url = 'https://archive.ics.uci.edu/ml/machine-learning-databases/iris/iris.data'\n",
        "arr = ['SepalLength', 'SepalWidth', 'PetalLength', 'PetalWidth', 'Species']\n",
        "df = pd.read_csv(url, names=arr)\n",
        "print(df.head())"
      ],
      "metadata": {
        "colab": {
          "base_uri": "https://localhost:8080/",
          "height": 0
        },
        "id": "8NHkDUMr4cxE",
        "outputId": "d16f02a4-2143-47a4-d08f-bb87d257ce68"
      },
      "execution_count": 2,
      "outputs": [
        {
          "output_type": "stream",
          "name": "stdout",
          "text": [
            "   SepalLength  SepalWidth  PetalLength  PetalWidth      Species\n",
            "0          5.1         3.5          1.4         0.2  Iris-setosa\n",
            "1          4.9         3.0          1.4         0.2  Iris-setosa\n",
            "2          4.7         3.2          1.3         0.2  Iris-setosa\n",
            "3          4.6         3.1          1.5         0.2  Iris-setosa\n",
            "4          5.0         3.6          1.4         0.2  Iris-setosa\n"
          ]
        }
      ]
    },
    {
      "cell_type": "code",
      "source": [
        "a = df.iloc[:, 0:4]\n",
        "b = df.select_dtypes(include=[object])\n",
        "b = df.iloc[:,4:5]"
      ],
      "metadata": {
        "id": "uJOGCJIO4hpJ"
      },
      "execution_count": 3,
      "outputs": []
    },
    {
      "cell_type": "code",
      "source": [
        "training_a, testing_a, training_b, testing_b = train_test_split(a, b, test_size = 0.25)\n",
        "myscaler = StandardScaler()\n",
        "myscaler.fit(training_a)\n",
        "training_a = myscaler.transform(training_a)\n",
        "testing_a = myscaler.transform(testing_a)\n",
        "m1 = MLPClassifier(hidden_layer_sizes=(12, 13, 14), activation='relu', solver='adam', max_iter=2500)\n",
        "m1.fit(training_a, training_b.values.ravel())\n",
        "predicted_values = m1.predict(testing_a)"
      ],
      "metadata": {
        "id": "MBR3_B8j4n5g"
      },
      "execution_count": 4,
      "outputs": []
    },
    {
      "cell_type": "code",
      "source": [
        "print(\"SHALINI K 212222240095\")\n",
        "print(confusion_matrix(testing_b,predicted_values))"
      ],
      "metadata": {
        "colab": {
          "base_uri": "https://localhost:8080/",
          "height": 0
        },
        "id": "k52ocgXC4pAq",
        "outputId": "8c69ba7c-ec8a-419c-c552-9f8026fbe8ae"
      },
      "execution_count": 5,
      "outputs": [
        {
          "output_type": "stream",
          "name": "stdout",
          "text": [
            "SHALINI K 212222240095\n",
            "[[15  0  0]\n",
            " [ 0 10  1]\n",
            " [ 0  2 10]]\n"
          ]
        }
      ]
    },
    {
      "cell_type": "code",
      "source": [
        "print(\"SHALINI K 212222240095\")\n",
        "print(classification_report(testing_b,predicted_values))"
      ],
      "metadata": {
        "colab": {
          "base_uri": "https://localhost:8080/",
          "height": 0
        },
        "id": "RDd-UDcg4x9C",
        "outputId": "6646649b-4770-485b-bd80-3ee5eba9a669"
      },
      "execution_count": 6,
      "outputs": [
        {
          "output_type": "stream",
          "name": "stdout",
          "text": [
            "SHALINI K 212222240095\n",
            "                 precision    recall  f1-score   support\n",
            "\n",
            "    Iris-setosa       1.00      1.00      1.00        15\n",
            "Iris-versicolor       0.83      0.91      0.87        11\n",
            " Iris-virginica       0.91      0.83      0.87        12\n",
            "\n",
            "       accuracy                           0.92        38\n",
            "      macro avg       0.91      0.91      0.91        38\n",
            "   weighted avg       0.92      0.92      0.92        38\n",
            "\n"
          ]
        }
      ]
    },
    {
      "cell_type": "code",
      "source": [],
      "metadata": {
        "id": "a7gI-py75Atp"
      },
      "execution_count": null,
      "outputs": []
    }
  ]
}